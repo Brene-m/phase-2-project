{
 "cells": [
  {
   "cell_type": "markdown",
   "metadata": {},
   "source": [
    "# KC_HOUSE PREDICTION PROJECT"
   ]
  },
  {
   "cell_type": "markdown",
   "metadata": {},
   "source": [
    "This is a project for a real estate agency that helps homeowners buy and/or sell homes. The business problem is focusing on how this stakeholder is to provide advice to homeowners about how home renovations might increase the estimated value of their homes, and by what amount."
   ]
  },
  {
   "cell_type": "markdown",
   "metadata": {},
   "source": [
    "## Column Names and descriptions for Kings County Data Set"
   ]
  },
  {
   "cell_type": "markdown",
   "metadata": {},
   "source": [
    "This project uses the King County House Sales dataset, which can be found in kc_house_data.csv in the data folder in this repo. The description of the column names can be found in column_names.md in the same folder.\n",
    "\n",
    "id- unique identified for a house\n",
    "\n",
    "Date- house was sold\n",
    "\n",
    "Price-  is prediction target\n",
    "\n",
    "bedroomsNumber -  of Bedrooms/House\n",
    "\n",
    "bathroomsNumber-  of bathrooms/bedrooms\n",
    "\n",
    "sqft_livingsquare-  footage of the home\n",
    "\n",
    "sqft_lotsquare-  footage of the lot\n",
    "\n",
    "floorsTotal-  floors (levels) in house\n",
    "\n",
    "waterfront- House which has a view to a waterfront\n",
    "\n",
    "view- Has been viewed\n",
    "\n",
    "condition- How good the condition is ( Overall )\n",
    "\n",
    "grade- overall grade given to the housing unit, based on King County grading system\n",
    "\n",
    "sqft_above- square footage of house apart from basement\n",
    "\n",
    "sqft_basement- square footage of the basement\n",
    "\n",
    "yr_built- Built Year\n",
    "\n",
    "yr_renovated- Year when house was renovated\n",
    "\n",
    "zipcode- zip\n",
    "\n",
    "lat- Latitude coordinate\n",
    "\n",
    "long- Longitude coordinate\n",
    "\n",
    "sqft_living15- The square footage of interior housing living space for the nearest 15 neighbors\n",
    "\n",
    "sqft_lot15- The square footage of the land lots of the nearest 15 neighbors"
   ]
  },
  {
   "cell_type": "code",
   "execution_count": 1,
   "metadata": {},
   "outputs": [],
   "source": [
    "#importing libraries\n",
    "import pandas as pd\n",
    "import numpy as np\n",
    "import matplotlib.pyplot as plt\n",
    "\n",
    "import scipy.stats as stats\n",
    "import statsmodels.api as sm\n",
    "import seaborn as sns\n",
    "\n",
    "sns.set_style('darkgrid')\n",
    "%matplotlib inline\n",
    "\n",
    "import warnings\n",
    "warnings.filterwarnings(\"ignore\")"
   ]
  },
  {
   "cell_type": "markdown",
   "metadata": {},
   "source": [
    "### Data understanding"
   ]
  },
  {
   "cell_type": "code",
   "execution_count": null,
   "metadata": {},
   "outputs": [],
   "source": [
    "#viewing the data\n",
    "df = pd.read_csv('kc_house_data.csv', encoding='latin1')\n",
    "df.head()"
   ]
  },
  {
   "cell_type": "code",
   "execution_count": null,
   "metadata": {},
   "outputs": [],
   "source": [
    "#Checking datatypes and missing values\n",
    "df.info()"
   ]
  },
  {
   "cell_type": "code",
   "execution_count": null,
   "metadata": {},
   "outputs": [],
   "source": [
    "#Checking the number of different values\n",
    "df['waterfront'].value_counts()"
   ]
  },
  {
   "cell_type": "markdown",
   "metadata": {},
   "source": [
    "The waterfront column is binary"
   ]
  },
  {
   "cell_type": "code",
   "execution_count": null,
   "metadata": {},
   "outputs": [],
   "source": [
    "#separate numerical data from the data set\n",
    "numerical_data = df.select_dtypes(include = 'number').describe()\n",
    "#descriptive statistics for quantitative variables\n",
    "numerical_data.drop(['id','waterfront','zipcode'],axis =1).describe()"
   ]
  },
  {
   "cell_type": "code",
   "execution_count": null,
   "metadata": {},
   "outputs": [],
   "source": [
    "#Checking the number of different values\n",
    "df['bedrooms'].value_counts()"
   ]
  },
  {
   "cell_type": "code",
   "execution_count": null,
   "metadata": {},
   "outputs": [],
   "source": [
    "#Checking datatpyes\n",
    "df.dtypes"
   ]
  },
  {
   "cell_type": "markdown",
   "metadata": {},
   "source": [
    "Date and sqft_basement have datatype object"
   ]
  },
  {
   "cell_type": "markdown",
   "metadata": {},
   "source": [
    "### Data cleaning"
   ]
  },
  {
   "cell_type": "code",
   "execution_count": null,
   "metadata": {},
   "outputs": [],
   "source": [
    "#Checking for null values\n",
    "df.isnull().sum()"
   ]
  },
  {
   "cell_type": "code",
   "execution_count": null,
   "metadata": {},
   "outputs": [],
   "source": [
    "#Checking fo null and missing values\n",
    "df['view'].value_counts()"
   ]
  },
  {
   "cell_type": "code",
   "execution_count": null,
   "metadata": {},
   "outputs": [],
   "source": [
    "#Checking fo null and missing values\n",
    "df['yr_renovated'].value_counts()"
   ]
  },
  {
   "cell_type": "code",
   "execution_count": null,
   "metadata": {},
   "outputs": [],
   "source": [
    "#Checking fo null and missing values\n",
    "df['sqft_basement'].value_counts()"
   ]
  },
  {
   "cell_type": "code",
   "execution_count": null,
   "metadata": {},
   "outputs": [],
   "source": [
    "#Replace a single value with a new value for an individual DataFrame column\n",
    "df[\"sqft_basement\"] = df[\"sqft_basement\"].replace(['?'],'0.0')\n",
    "\n",
    "#converting the sqft_basment column from str to float\n",
    "df[\"sqft_basement\"] = df[\"sqft_basement\"].astype(\"float\")"
   ]
  },
  {
   "cell_type": "code",
   "execution_count": null,
   "metadata": {},
   "outputs": [],
   "source": [
    "#Checking fo null and missing values\n",
    "df['sqft_basement'].value_counts()"
   ]
  },
  {
   "cell_type": "code",
   "execution_count": null,
   "metadata": {},
   "outputs": [],
   "source": [
    "#filling missing values\n",
    "df['view'] = df.view.fillna(value = df.view.median())\n",
    "df.view.value_counts()"
   ]
  },
  {
   "cell_type": "code",
   "execution_count": null,
   "metadata": {},
   "outputs": [],
   "source": [
    "#filling missing values\n",
    "df.waterfront = df['waterfront'].fillna(value = df.waterfront.median())\n"
   ]
  },
  {
   "cell_type": "code",
   "execution_count": null,
   "metadata": {},
   "outputs": [],
   "source": [
    "#viewing dataframe\n",
    "df"
   ]
  },
  {
   "cell_type": "code",
   "execution_count": null,
   "metadata": {},
   "outputs": [],
   "source": [
    "#filling missing values\n",
    "df.yr_renovated = df.yr_renovated.fillna(value = df.yr_renovated.median())"
   ]
  },
  {
   "cell_type": "code",
   "execution_count": null,
   "metadata": {},
   "outputs": [],
   "source": [
    "df.yr_renovated.value_counts()"
   ]
  },
  {
   "cell_type": "code",
   "execution_count": null,
   "metadata": {},
   "outputs": [],
   "source": [
    "#Checking for null values\n",
    "df.isnull().sum()"
   ]
  },
  {
   "cell_type": "code",
   "execution_count": null,
   "metadata": {},
   "outputs": [],
   "source": [
    "df['view'].value_counts()"
   ]
  },
  {
   "cell_type": "markdown",
   "metadata": {},
   "source": [
    "Majority of the houses have not been viewed"
   ]
  },
  {
   "cell_type": "markdown",
   "metadata": {},
   "source": [
    "## Data visualization "
   ]
  },
  {
   "cell_type": "code",
   "execution_count": null,
   "metadata": {},
   "outputs": [],
   "source": [
    "#viewing how grade affect price\n",
    "#fig, ax = plt.subplots(figsize = (8,6))\n",
    "#ax.scatter(x = df['sqft_living'], y = df['price'])\n",
    "sns.barplot(y='price',x ='grade',data=df).set(title = 'Grade effect on price')\n"
   ]
  },
  {
   "cell_type": "code",
   "execution_count": null,
   "metadata": {},
   "outputs": [],
   "source": [
    "#Checking for columns that correlate with price\n",
    "fig , ax = plt.subplots(figsize=(10,9))\n",
    "ax = sns.heatmap(df.corr(),annot=True, linewidths = 1).set(title = ('Correlation'))"
   ]
  },
  {
   "cell_type": "code",
   "execution_count": null,
   "metadata": {},
   "outputs": [],
   "source": [
    "#list of column index and column names\n",
    "list(enumerate(df))\n",
    "df_l =  [df['grade'],df['bedrooms'],df['floors'],df['view'],df['condition'],df['bathrooms'],df['sqft_living'],df['sqft_living15']]"
   ]
  },
  {
   "cell_type": "code",
   "execution_count": null,
   "metadata": {
    "scrolled": true
   },
   "outputs": [],
   "source": [
    "#univariate analysis\n",
    "sns.set_style('darkgrid')\n",
    "plt.figure(figsize=(16,14))\n",
    "for i in enumerate(df_l):\n",
    "    plt.subplot(2,4,i[0]+1)\n",
    "    sns.countplot(i[1])"
   ]
  },
  {
   "cell_type": "code",
   "execution_count": null,
   "metadata": {},
   "outputs": [],
   "source": [
    "df_b = [df['grade'],df['bedrooms'],df['floors'],df['view'],df['condition'],df['bathrooms'],df['sqft_living'],df['sqft_living15']]"
   ]
  },
  {
   "cell_type": "code",
   "execution_count": null,
   "metadata": {},
   "outputs": [],
   "source": [
    "#Checking for outliers\n",
    "sns.set_style('darkgrid')\n",
    "plt.figure(figsize=(16,14))\n",
    "for i in enumerate(df_l):\n",
    "    plt.subplot(2,4,i[0]+1)\n",
    "    sns.boxplot(i[1])\n",
    "#sns.boxplot(data = df,x = 'bedrooms',y = 'price')"
   ]
  },
  {
   "cell_type": "code",
   "execution_count": null,
   "metadata": {},
   "outputs": [],
   "source": [
    "#Droping outliers \n",
    "df.drop(df.loc[df['bedrooms'] >=11].index, inplace=True)"
   ]
  },
  {
   "cell_type": "code",
   "execution_count": null,
   "metadata": {},
   "outputs": [],
   "source": [
    "df_s = [df['grade'],df['bedrooms'],df['floors'],df['view'],df['condition'],df['bathrooms'],df['sqft_living'],df['sqft_living15']]"
   ]
  },
  {
   "cell_type": "code",
   "execution_count": null,
   "metadata": {},
   "outputs": [],
   "source": [
    "#Scatter plot on how different values affect price\n",
    "sns.set_style('darkgrid')\n",
    "plt.figure(figsize=(16,14))\n",
    "for i in enumerate(df_s):\n",
    "    plt.subplot(2,4,i[0]+1)\n",
    "    sns.scatterplot(i[1],df['price'])"
   ]
  },
  {
   "cell_type": "code",
   "execution_count": null,
   "metadata": {},
   "outputs": [],
   "source": [
    "#Ploting a map showing different house pricess\n",
    "plt.figure(figsize=(10,8))\n",
    "sns.scatterplot(data = df,x = df['long'], y = df['lat'], hue = df['price'], palette ='gist_stern')\n",
    "#gist_stern"
   ]
  },
  {
   "cell_type": "code",
   "execution_count": null,
   "metadata": {},
   "outputs": [],
   "source": [
    "#The relationship between year built and price\n",
    "fig, ax = plt.subplots(figsize= (10,5))\n",
    "ax.scatter(x = df['sqft_basement'],y= df['price'])\n",
    "plt.xlabel(\"sqft_basement\")\n",
    "plt.ylabel(\"price\")\n",
    "plt.title(\"Relationship between sqft_basement and price\") "
   ]
  },
  {
   "cell_type": "code",
   "execution_count": null,
   "metadata": {},
   "outputs": [],
   "source": [
    "#What affects price the most\n",
    "df.corr()['price'].sort_values(ascending=False).drop('price').plot(kind = 'bar')"
   ]
  },
  {
   "cell_type": "code",
   "execution_count": null,
   "metadata": {},
   "outputs": [],
   "source": [
    "#What price range for most house\n",
    "sns.set_style('darkgrid')\n",
    "\n",
    "\n",
    "sns.distplot(df['price'])"
   ]
  },
  {
   "cell_type": "code",
   "execution_count": null,
   "metadata": {},
   "outputs": [],
   "source": [
    "#How many bedrooms do most houses have?\n",
    "plt.figure(figsize = (10,8))\n",
    "sns.countplot(df.bedrooms, order = df['bedrooms'].value_counts().index)"
   ]
  },
  {
   "cell_type": "code",
   "execution_count": null,
   "metadata": {},
   "outputs": [],
   "source": [
    "#converting date\n",
    "df['date'] = pd.to_datetime(df['date'])"
   ]
  },
  {
   "cell_type": "code",
   "execution_count": null,
   "metadata": {},
   "outputs": [],
   "source": [
    "#Create a new month column\n",
    "df['months'] = df['date'].dt.month\n",
    "df.info()"
   ]
  },
  {
   "cell_type": "code",
   "execution_count": null,
   "metadata": {},
   "outputs": [],
   "source": [
    "#waterfront effect on size\n",
    "plt.figure(figsize=(10,8))\n",
    "sns.scatterplot(data = df, x = df.date, y = df.price, hue = 'waterfront')"
   ]
  },
  {
   "cell_type": "markdown",
   "metadata": {},
   "source": [
    "houses with a waterfront have high prices compared to those without"
   ]
  },
  {
   "cell_type": "code",
   "execution_count": null,
   "metadata": {},
   "outputs": [],
   "source": [
    "#Prices of houses sold on different dates \n",
    "plt.figure(figsize=(10,8))\n",
    "sns.scatterplot(data = df, x = df.date, y = df.price, hue = 'view').set(title=\"Number of times a house is viewed depending on date sold and price\")"
   ]
  },
  {
   "cell_type": "markdown",
   "metadata": {},
   "source": [
    "low priced housed do not get a lot of views as compared to expensive houses"
   ]
  },
  {
   "cell_type": "markdown",
   "metadata": {},
   "source": [
    "## Categorical data"
   ]
  },
  {
   "cell_type": "code",
   "execution_count": null,
   "metadata": {},
   "outputs": [],
   "source": [
    "df.head(3)"
   ]
  },
  {
   "cell_type": "code",
   "execution_count": null,
   "metadata": {},
   "outputs": [],
   "source": [
    "#Spliting data into categorical and numerical data\n",
    "#Numerical data\n",
    "num_df = df[['price','bathrooms','bedrooms','sqft_living','sqft_above','lat','long','sqft_living15','sqft_lot15']]\n",
    "#Categorical data\n",
    "cat_df = df[['condition','grade','yr_built','view','yr_renovated','zipcode']]\n"
   ]
  },
  {
   "cell_type": "code",
   "execution_count": null,
   "metadata": {},
   "outputs": [],
   "source": [
    "#Viewing categorical data\n",
    "cat_df.view.value_counts()"
   ]
  },
  {
   "cell_type": "code",
   "execution_count": null,
   "metadata": {},
   "outputs": [],
   "source": [
    "#Changing the column to viewed and not viewed\n",
    "bins =[0,1,4]\n",
    "bin_views = pd.cut(cat_df['view'], bins,include_lowest = True, labels = ['no_views', 'viewed'] )\n",
    "bin_views = bin_views.cat.as_unordered()"
   ]
  },
  {
   "cell_type": "code",
   "execution_count": null,
   "metadata": {},
   "outputs": [],
   "source": [
    "bin_views.value_counts().plot(kind='bar', title = 'Viewed vs not viewed')"
   ]
  },
  {
   "cell_type": "code",
   "execution_count": null,
   "metadata": {},
   "outputs": [],
   "source": [
    "bin_views.value_counts()"
   ]
  },
  {
   "cell_type": "markdown",
   "metadata": {},
   "source": [
    "## Checking on year of renovation"
   ]
  },
  {
   "cell_type": "code",
   "execution_count": null,
   "metadata": {},
   "outputs": [],
   "source": [
    "df.yr_renovated.value_counts()"
   ]
  },
  {
   "cell_type": "code",
   "execution_count": null,
   "metadata": {},
   "outputs": [],
   "source": [
    "df.yr_renovated.isnull().value_counts()"
   ]
  },
  {
   "cell_type": "code",
   "execution_count": null,
   "metadata": {
    "scrolled": true
   },
   "outputs": [],
   "source": [
    "renovated = (df['yr_renovated'] != 0)\n",
    "df['renovated'] = renovated"
   ]
  },
  {
   "cell_type": "code",
   "execution_count": null,
   "metadata": {},
   "outputs": [],
   "source": [
    "ren_year = df.loc[df['renovated'] == True]\n",
    "ren_year.head(5)"
   ]
  },
  {
   "cell_type": "code",
   "execution_count": null,
   "metadata": {},
   "outputs": [],
   "source": [
    "ren_year['yr_renovated'].describe()"
   ]
  },
  {
   "cell_type": "code",
   "execution_count": null,
   "metadata": {},
   "outputs": [],
   "source": [
    "sns.set_style('darkgrid')\n",
    "plt.figure(figsize=(16,6))\n",
    "sns.scatterplot(y = df['price'],x = ren_year['yr_renovated'], hue = df['yr_built']).set(title = \"Renovated house prices\")"
   ]
  },
  {
   "cell_type": "code",
   "execution_count": null,
   "metadata": {},
   "outputs": [],
   "source": [
    "sns.set_style('darkgrid')\n",
    "plt.figure(figsize=(16,6))\n",
    "sns.scatterplot(y = df['price'],x = df['yr_built'], hue = df['renovated']).set(title='Prices of renovated and non-renovated houses')"
   ]
  },
  {
   "cell_type": "code",
   "execution_count": null,
   "metadata": {},
   "outputs": [],
   "source": [
    "renovated.value_counts()"
   ]
  },
  {
   "cell_type": "code",
   "execution_count": null,
   "metadata": {},
   "outputs": [],
   "source": [
    "#Comparison between renovated and non-renovated houses\n",
    "df.renovated.value_counts().plot(kind='bar',title=\"Renovated and Non-Renovated\")"
   ]
  },
  {
   "cell_type": "markdown",
   "metadata": {},
   "source": [
    "## converting categorical to numerical"
   ]
  },
  {
   "cell_type": "code",
   "execution_count": null,
   "metadata": {},
   "outputs": [],
   "source": [
    "df.head(5)"
   ]
  },
  {
   "cell_type": "code",
   "execution_count": null,
   "metadata": {},
   "outputs": [],
   "source": [
    "def binary_convert(x):\n",
    "    if x > 0:\n",
    "        return 1\n",
    "    else:\n",
    "        return 0 \n",
    "    return x"
   ]
  },
  {
   "cell_type": "code",
   "execution_count": null,
   "metadata": {},
   "outputs": [],
   "source": [
    "#Using the function binary convert\n",
    "df['bin_view'] = df['view'].apply(binary_convert)\n",
    "df['bin_view'].value_counts()"
   ]
  },
  {
   "cell_type": "code",
   "execution_count": null,
   "metadata": {},
   "outputs": [],
   "source": [
    "def binary_condition(x):\n",
    "    if x < 2:\n",
    "        return 0\n",
    "    else:\n",
    "        return 1 \n",
    "        \n",
    "    return x"
   ]
  },
  {
   "cell_type": "code",
   "execution_count": null,
   "metadata": {},
   "outputs": [],
   "source": [
    "df['bin_condition'] = df['condition'].apply(binary_condition)\n",
    "df['bin_condition'].value_counts()"
   ]
  },
  {
   "cell_type": "code",
   "execution_count": null,
   "metadata": {},
   "outputs": [],
   "source": [
    "def binary_floors(x):\n",
    "    if x < 1.5:\n",
    "        return 0\n",
    "    else:\n",
    "        return 1 \n",
    "        \n",
    "    return x"
   ]
  },
  {
   "cell_type": "code",
   "execution_count": null,
   "metadata": {},
   "outputs": [],
   "source": [
    "#Apply the function\n",
    "df['bin_floors'] = df['floors'].apply(binary_floors)\n",
    "df['bin_floors'].value_counts()"
   ]
  },
  {
   "cell_type": "code",
   "execution_count": null,
   "metadata": {},
   "outputs": [],
   "source": [
    "df['renovated'] = df['yr_renovated'].apply(binary_convert)\n",
    "df"
   ]
  },
  {
   "cell_type": "code",
   "execution_count": null,
   "metadata": {},
   "outputs": [],
   "source": [
    "# dropping columns\n",
    "df.drop([\"id\", \"zipcode\",\"date\", \"sqft_living\",'floors','view',\n",
    "                     'condition',\"grade\",\"yr_built\", \"yr_renovated\",\n",
    "                  \"months\"], axis = 1, inplace = True)"
   ]
  },
  {
   "cell_type": "code",
   "execution_count": null,
   "metadata": {},
   "outputs": [],
   "source": [
    "df"
   ]
  },
  {
   "cell_type": "code",
   "execution_count": null,
   "metadata": {},
   "outputs": [],
   "source": [
    "#Creating a function to remove outliers\n",
    "def no_outliers(data, col):\n",
    "    #first and third quartile\n",
    "    first_q, third_q = np.percentile(data[col], 25), np.percentile(data[col], 75)\n",
    "    #interquartile range\n",
    "    iq_range = third_q - first_q\n",
    "    #get the cut_off for values(iqr*1.5)\n",
    "    cut_off = iq_range * 1.5\n",
    "    #lower and upper values\n",
    "    lower_range, upper_range = first_q - cut_off, third_q + cut_off\n",
    "\n",
    "    return data[(data[col] >= lower_range) & (data[col] <= upper_range)]"
   ]
  },
  {
   "cell_type": "code",
   "execution_count": null,
   "metadata": {},
   "outputs": [],
   "source": [
    "new_df = df[['price','bedrooms','bathrooms','sqft_lot' ,'waterfront','sqft_above','sqft_basement','lat','long','sqft_living15','sqft_lot15','renovated','bin_view','bin_condition','bin_floors']]"
   ]
  },
  {
   "cell_type": "code",
   "execution_count": null,
   "metadata": {},
   "outputs": [],
   "source": [
    "new_df.info()"
   ]
  },
  {
   "cell_type": "code",
   "execution_count": null,
   "metadata": {},
   "outputs": [],
   "source": [
    "new_df1 = no_outliers(new_df, 'bathrooms')\n",
    "new_df1"
   ]
  },
  {
   "cell_type": "code",
   "execution_count": null,
   "metadata": {},
   "outputs": [],
   "source": [
    "new_df1 = no_outliers(new_df1, 'bedrooms')\n",
    "new_df1"
   ]
  },
  {
   "cell_type": "code",
   "execution_count": null,
   "metadata": {},
   "outputs": [],
   "source": [
    "new_df1 = no_outliers(new_df1, 'sqft_lot')\n",
    "new_df1"
   ]
  },
  {
   "cell_type": "code",
   "execution_count": null,
   "metadata": {},
   "outputs": [],
   "source": [
    "new_df1 = no_outliers(new_df1, 'waterfront')\n",
    "new_df1"
   ]
  },
  {
   "cell_type": "code",
   "execution_count": null,
   "metadata": {},
   "outputs": [],
   "source": [
    "new_df1 = no_outliers(new_df1, 'sqft_above')\n",
    "new_df1"
   ]
  },
  {
   "cell_type": "code",
   "execution_count": null,
   "metadata": {},
   "outputs": [],
   "source": [
    "new_df['sqft_basement'].astype(int)"
   ]
  },
  {
   "cell_type": "code",
   "execution_count": null,
   "metadata": {},
   "outputs": [],
   "source": [
    "new_df1 = no_outliers(new_df1, 'sqft_basement')\n",
    "new_df1"
   ]
  },
  {
   "cell_type": "code",
   "execution_count": null,
   "metadata": {},
   "outputs": [],
   "source": [
    "new_df1 = no_outliers(new_df1, 'long')\n",
    "new_df1"
   ]
  },
  {
   "cell_type": "code",
   "execution_count": null,
   "metadata": {},
   "outputs": [],
   "source": [
    "new_df1 = no_outliers(new_df1, 'lat')\n",
    "new_df1"
   ]
  },
  {
   "cell_type": "code",
   "execution_count": null,
   "metadata": {},
   "outputs": [],
   "source": [
    "new_df1 = no_outliers(new_df1, 'bin_floors')\n",
    "new_df1"
   ]
  },
  {
   "cell_type": "code",
   "execution_count": null,
   "metadata": {},
   "outputs": [],
   "source": [
    "new_df1 = no_outliers(new_df1, 'bin_condition')\n",
    "new_df1"
   ]
  },
  {
   "cell_type": "code",
   "execution_count": null,
   "metadata": {},
   "outputs": [],
   "source": [
    "new_df1 = no_outliers(new_df1, 'renovated')\n",
    "new_df1"
   ]
  },
  {
   "cell_type": "code",
   "execution_count": null,
   "metadata": {},
   "outputs": [],
   "source": [
    "new_df1 = no_outliers(new_df1, 'sqft_lot15')\n",
    "new_df1"
   ]
  },
  {
   "cell_type": "code",
   "execution_count": null,
   "metadata": {
    "scrolled": true
   },
   "outputs": [],
   "source": [
    "new_df1 = no_outliers(new_df1, 'sqft_living15')\n",
    "new_df1"
   ]
  },
  {
   "cell_type": "markdown",
   "metadata": {},
   "source": [
    "### Model 1 "
   ]
  },
  {
   "cell_type": "markdown",
   "metadata": {},
   "source": [
    "Use independent variables for predicting"
   ]
  },
  {
   "cell_type": "code",
   "execution_count": null,
   "metadata": {},
   "outputs": [],
   "source": [
    "x_m = new_df.drop(columns = ['price','bin_view','renovated','bin_condition','bin_floors'])\n",
    "y_m = new_df[\"price\"]"
   ]
  },
  {
   "cell_type": "code",
   "execution_count": null,
   "metadata": {},
   "outputs": [],
   "source": [
    "#split the data into train and test set\n",
    "from sklearn.model_selection import train_test_split\n",
    "xm_train, xm_test, ym_train, ym_test = train_test_split(x_m,y_m, random_state = 50)"
   ]
  },
  {
   "cell_type": "code",
   "execution_count": null,
   "metadata": {},
   "outputs": [],
   "source": [
    "#Normalizing the data\n",
    "from sklearn.preprocessing import StandardScaler \n",
    "sc = StandardScaler()\n",
    "xm_train = sc.fit_transform(xm_train)\n",
    "xm_test = sc.transform(xm_test)"
   ]
  },
  {
   "cell_type": "code",
   "execution_count": null,
   "metadata": {},
   "outputs": [],
   "source": [
    "from sklearn.linear_model import LinearRegression\n",
    "OLS = LinearRegression()\n",
    "OLS.fit(xm_train,ym_train)"
   ]
  },
  {
   "cell_type": "code",
   "execution_count": null,
   "metadata": {},
   "outputs": [],
   "source": [
    "print(\"Intercept :\" + str(OLS.intercept_))\n",
    "print('the set of coefficients :' + str(OLS.coef_))\n",
    "print(\"The R-squared values :\" + str(OLS.score(xm_train,ym_train)))"
   ]
  },
  {
   "cell_type": "code",
   "execution_count": null,
   "metadata": {},
   "outputs": [],
   "source": [
    "#predicting with OLS\n",
    "ym_pred = OLS.predict(xm_test)\n",
    "performance_m = pd.DataFrame({'PREDICTIONS' : ym_pred, 'ACTUAL VALUES':ym_test})\n",
    "performance_m['error'] = performance_m['ACTUAL VALUES'] - performance_m['PREDICTIONS']\n",
    "performance_m"
   ]
  },
  {
   "cell_type": "code",
   "execution_count": null,
   "metadata": {},
   "outputs": [],
   "source": [
    "# preparing the data for plotting\n",
    "performance_m.reset_index(drop =True, inplace =True)\n",
    "performance_m.reset_index( inplace =True)\n",
    "performance_m.head()"
   ]
  },
  {
   "cell_type": "code",
   "execution_count": null,
   "metadata": {},
   "outputs": [],
   "source": [
    "#mean absolute error\n",
    "performance_m['error'].abs().mean()\n",
    "#mean_absolute_error(ym_test,pred)"
   ]
  },
  {
   "cell_type": "code",
   "execution_count": null,
   "metadata": {},
   "outputs": [],
   "source": [
    "# display the intercept and coefficients of the OLS model\n",
    "import statsmodels.api as sm\n",
    "xm_train=sm.add_constant(xm_train)\n",
    "nicerOLS=sm.OLS(ym_train, xm_train).fit()\n",
    "nicerOLS.summary()"
   ]
  },
  {
   "cell_type": "code",
   "execution_count": null,
   "metadata": {},
   "outputs": [],
   "source": [
    "#prediction\n",
    "sns.set(rc={\"figure.figsize\":(10, 8)}) \n",
    "sns.regplot(ym_test,ym_pred)\n",
    "plt.xlabel('Actual')\n",
    "plt.ylabel('predicted')\n",
    "plt.title('Actual vs predicted')"
   ]
  },
  {
   "cell_type": "markdown",
   "metadata": {},
   "source": [
    "# Model 2"
   ]
  },
  {
   "cell_type": "code",
   "execution_count": null,
   "metadata": {},
   "outputs": [],
   "source": [
    "#set the features of the model\n",
    "x = new_df.drop(columns = [\"price\",'bedrooms','sqft_lot','bathrooms'])\n",
    "y = new_df[\"price\"]"
   ]
  },
  {
   "cell_type": "code",
   "execution_count": null,
   "metadata": {},
   "outputs": [],
   "source": [
    "#split the data into train and test set\n",
    "from sklearn.model_selection import train_test_split\n",
    "x_train, x_test, y_train, y_test = train_test_split(x,y, random_state = 50)"
   ]
  },
  {
   "cell_type": "markdown",
   "metadata": {},
   "source": [
    "## Model training"
   ]
  },
  {
   "cell_type": "code",
   "execution_count": null,
   "metadata": {},
   "outputs": [],
   "source": [
    "# Normalizing the data\n",
    "from sklearn.preprocessing import StandardScaler \n",
    "sc = StandardScaler()\n",
    "x_train = sc.fit_transform(x_train)\n",
    "x_test = sc.transform(x_test)"
   ]
  },
  {
   "cell_type": "code",
   "execution_count": null,
   "metadata": {},
   "outputs": [],
   "source": [
    "from sklearn.linear_model import LinearRegression\n",
    "OLS = LinearRegression()\n",
    "OLS.fit(x_train,y_train)"
   ]
  },
  {
   "cell_type": "code",
   "execution_count": null,
   "metadata": {},
   "outputs": [],
   "source": [
    "#display the intercept and coefficients of the OLS model\n",
    "print(\"Intercept :\" + str(OLS.intercept_))\n",
    "print('the set of coefficients :' + str(OLS.coef_))\n",
    "print(\"The R-squared values :\" + str(OLS.score(x_train,y_train)))"
   ]
  },
  {
   "cell_type": "code",
   "execution_count": null,
   "metadata": {},
   "outputs": [],
   "source": [
    "#predicting with OLS\n",
    "y_pred = OLS.predict(x_test)\n",
    "performance = pd.DataFrame({'PREDICTIONS' : y_pred, 'ACTUAL VALUES':y_test})\n",
    "performance['error'] = performance['ACTUAL VALUES'] - performance['PREDICTIONS']\n",
    "performance"
   ]
  },
  {
   "cell_type": "code",
   "execution_count": null,
   "metadata": {},
   "outputs": [],
   "source": [
    "# preparing the data for plotting\n",
    "performance.reset_index(drop =True, inplace =True)\n",
    "performance.reset_index( inplace =True)\n",
    "performance.head()"
   ]
  },
  {
   "cell_type": "code",
   "execution_count": null,
   "metadata": {},
   "outputs": [],
   "source": [
    "#mean absolute error\n",
    "performance['error'].abs().mean()\n",
    "#mean_absolute_error(y_test,pred)"
   ]
  },
  {
   "cell_type": "code",
   "execution_count": null,
   "metadata": {},
   "outputs": [],
   "source": [
    "# display the intercept and coefficients of the OLS model\n",
    "import statsmodels.api as sm\n",
    "x_train=sm.add_constant(x_train)\n",
    "nicerOLS=sm.OLS(y_train, x_train).fit()\n",
    "nicerOLS.summary()"
   ]
  },
  {
   "cell_type": "code",
   "execution_count": null,
   "metadata": {
    "scrolled": false
   },
   "outputs": [],
   "source": [
    "#prediction\n",
    "sns.set(rc={\"figure.figsize\":(10, 8)}) \n",
    "sns.regplot(y_test,y_pred)\n",
    "plt.xlabel('Actual')\n",
    "plt.ylabel('predicted')\n",
    "plt.title('Actual vs predicted')"
   ]
  },
  {
   "cell_type": "markdown",
   "metadata": {},
   "source": [
    "###  model 3"
   ]
  },
  {
   "cell_type": "markdown",
   "metadata": {},
   "source": [
    "Dropping columns with a correlation of above 5"
   ]
  },
  {
   "cell_type": "code",
   "execution_count": null,
   "metadata": {},
   "outputs": [],
   "source": [
    "x1 = new_df.drop(columns = ['sqft_living15','bathrooms','sqft_above','price'])\n",
    "y1 = new_df[\"price\"]"
   ]
  },
  {
   "cell_type": "code",
   "execution_count": null,
   "metadata": {},
   "outputs": [],
   "source": [
    "#split the data into train and test set\n",
    "from sklearn.model_selection import train_test_split\n",
    "x1_train, x1_test, y1_train, y1_test = train_test_split(x1,y1, random_state = 50)"
   ]
  },
  {
   "cell_type": "code",
   "execution_count": null,
   "metadata": {},
   "outputs": [],
   "source": [
    "#Normalizing the data\n",
    "from sklearn.preprocessing import StandardScaler \n",
    "sc = StandardScaler()\n",
    "x1_train = sc.fit_transform(x1_train)\n",
    "x1_test = sc.transform(x1_test)"
   ]
  },
  {
   "cell_type": "code",
   "execution_count": null,
   "metadata": {},
   "outputs": [],
   "source": [
    "from sklearn.linear_model import LinearRegression\n",
    "OLS = LinearRegression()\n",
    "OLS.fit(x1_train,y1_train)"
   ]
  },
  {
   "cell_type": "code",
   "execution_count": null,
   "metadata": {},
   "outputs": [],
   "source": [
    "#display the intercept and coefficients of the OLS model\n",
    "print(\"Intercept :\" + str(OLS.intercept_))\n",
    "print('the set of coefficients :' + str(OLS.coef_))\n",
    "print(\"The R-squared values :\" + str(OLS.score(x1_train,y1_train)))"
   ]
  },
  {
   "cell_type": "code",
   "execution_count": null,
   "metadata": {},
   "outputs": [],
   "source": [
    "#predicting with OLS\n",
    "y1_pred = OLS.predict(x1_test)\n",
    "performance_one = pd.DataFrame({'PREDICTIONS' : y1_pred, 'ACTUAL VALUES':y1_test})\n",
    "performance_one['error'] = performance_one['ACTUAL VALUES'] - performance_one['PREDICTIONS']\n",
    "performance_one"
   ]
  },
  {
   "cell_type": "code",
   "execution_count": null,
   "metadata": {},
   "outputs": [],
   "source": [
    "# preparing the data for plotting\n",
    "performance_one.reset_index(drop =True, inplace =True)\n",
    "performance_one.reset_index( inplace =True)\n",
    "performance_one.head()"
   ]
  },
  {
   "cell_type": "code",
   "execution_count": null,
   "metadata": {},
   "outputs": [],
   "source": [
    "#mean absolute error\n",
    "performance_one['error'].abs().mean()\n",
    "#mean_absolute_error(y1_test,pred)"
   ]
  },
  {
   "cell_type": "code",
   "execution_count": null,
   "metadata": {},
   "outputs": [],
   "source": [
    "# display the intercept and coefficients of the OLS model\n",
    "import statsmodels.api as sm\n",
    "x1_train=sm.add_constant(x1_train)\n",
    "nicerOLS=sm.OLS(y1_train, x1_train).fit()\n",
    "nicerOLS.summary()"
   ]
  },
  {
   "cell_type": "code",
   "execution_count": null,
   "metadata": {},
   "outputs": [],
   "source": [
    "#prediction\n",
    "sns.set(rc={\"figure.figsize\":(10, 8)}) \n",
    "sns.regplot(y1_test,y1_pred)\n",
    "plt.xlabel('Actual')\n",
    "plt.ylabel('predicted')\n",
    "plt.title('Actual vs predicted')"
   ]
  },
  {
   "cell_type": "markdown",
   "metadata": {},
   "source": [
    " Congratulations! You have finished the project."
   ]
  }
 ],
 "metadata": {
  "kernelspec": {
   "display_name": "Python (learn-env)",
   "language": "python",
   "name": "learn-env"
  },
  "language_info": {
   "codemirror_mode": {
    "name": "ipython",
    "version": 3
   },
   "file_extension": ".py",
   "mimetype": "text/x-python",
   "name": "python",
   "nbconvert_exporter": "python",
   "pygments_lexer": "ipython3",
   "version": "3.8.5"
  }
 },
 "nbformat": 4,
 "nbformat_minor": 4
}
